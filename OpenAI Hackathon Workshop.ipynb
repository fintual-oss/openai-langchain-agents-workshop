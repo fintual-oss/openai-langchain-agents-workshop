{
 "cells": [
  {
   "cell_type": "markdown",
   "id": "b3755db5-8b65-4cde-9c1f-cb316b51447b",
   "metadata": {},
   "source": [
    "# Workshop: From Zero to Hero\n",
    "Cómo hacer un chatbot con GPT y Langchain, y montar una UI de prototipo\n",
    "\n",
    "AI Hackathon by CommunityOS - OpenAI - Fintual"
   ]
  },
  {
   "cell_type": "markdown",
   "id": "9fd5e8a5-3203-4bc9-8191-c8afa93a3f9a",
   "metadata": {},
   "source": [
    "## Quién es Rodrigo Basoalto\n",
    "- Ingeniero de Software, MS en Ciencia de la Computación\n",
    "- ~13 años full-time en la industria, muchos más como _hobbyist_\n",
    "- Lidero el equipo de Fintual AI\n",
    "- Antes: Google, Evernote, Groupon, Synopsys"
   ]
  },
  {
   "cell_type": "markdown",
   "id": "c1c6fa78-d68a-470c-9d40-241565fab006",
   "metadata": {},
   "source": [
    "# Fintual 💙 AI\n",
    "Qué es Fintual? revisa [fintual.com](https://fintual.com)\n",
    "\n",
    "Qué hacemos con LLMs?\n",
    "- Trabajando en un asesor de inversiones por WhatsApp, pruébenlo! https://fintu.al/hola (por ahora sólo +1🇺🇸, +52🇲🇽, +56🇨🇱)\n",
    "- \"Copilot\" para el chat de soporte, esperamos pronto empezar a responder directamente lo que podamos\n",
    "    - Evaluación, feedback, prompt engineering, ...\n",
    "- Muuuuchos procesos internos\n",
    "\n",
    "Además de _otras_ formas de AI/ML, ej: CTGAN para asset allocation https://doi.org/10.1080/14697688.2024.2329194"
   ]
  },
  {
   "cell_type": "markdown",
   "id": "7a82b5a1-5585-4fbe-a3eb-d9dbe1d7d081",
   "metadata": {},
   "source": [
    "# Público Objetivo\n",
    "Para quién es este workshop?\n",
    "- Tienes ideas pero no sabes cómo implementarlas en la práctica\n",
    "- Has usado LLMs para hacer _cosas_\n",
    "- Quizá has usado las APIs de OpenAI u otros\n",
    "- Sabes al menos un poco de Python\n",
    "    - Casi todo lo del workshop es aplicable 1:1 en JS también\n",
    "    - Conceptualmente es aplicable en cualquier lenguaje (pero Langchain está solo en Py/JS)"
   ]
  },
  {
   "cell_type": "markdown",
   "id": "82abce4d-20b0-4b87-b01e-4b70bcf9bd49",
   "metadata": {},
   "source": [
    "## Estructura del Workshop\n",
    "Vamos a ir paso a paso mostrando, en concreto, las partes para armar un chatbot. Usaremos Python + OpenAI + Langchain + Gradio.\n",
    "- API de OpenAI para llamadas simples\n",
    "- Introducción a Langchain\n",
    "    - Un chatbot básico\n",
    "    - Agentes\n",
    "    - Tools\n",
    "- Armando un prototipo completo con Gradio"
   ]
  },
  {
   "cell_type": "markdown",
   "id": "f693cc08-b95e-49b8-9bdd-0684e526824f",
   "metadata": {},
   "source": [
    "## Llamando a GPT directamente\n",
    "Necesitamos tener una cuenta en OpenAI (ojo: platform, no ChatGPT), y tener `OPENAI_API_KEY` definida como variable de entorno."
   ]
  },
  {
   "cell_type": "code",
   "execution_count": 1,
   "id": "cbeff573-8e9d-4d13-836d-89bf294bdf1e",
   "metadata": {},
   "outputs": [
    {
     "data": {
      "text/plain": [
       "'sk-'"
      ]
     },
     "execution_count": 1,
     "metadata": {},
     "output_type": "execute_result"
    }
   ],
   "source": [
    "import os\n",
    "os.environ['OPENAI_API_KEY'][:3]"
   ]
  },
  {
   "cell_type": "code",
   "execution_count": 2,
   "id": "f2c3b47d-f444-474a-a853-729ca387ab93",
   "metadata": {},
   "outputs": [
    {
     "data": {
      "text/plain": [
       "ChatCompletion(id='chatcmpl-9rYJHiRw7wlYIzCTR5g02WFg6ti3U', choices=[Choice(finish_reason='stop', index=0, logprobs=None, message=ChatCompletionMessage(content='¡Con esos ingredientes puedes preparar una deliciosa omelette! Aquí tienes una receta sencilla:\\n\\n### Omelette con cilantro y cebollín\\n\\n#### Ingredientes:\\n- 3 huevos\\n- 1 cucharada de mantequilla\\n- 2 cucharadas de cilantro fresco, picado\\n- 2 cucharadas de cebollín, picado\\n- Sal y pimienta al gusto\\n\\n#### Instrucciones:\\n\\n1. **Preparar los ingredientes**: Pica finamente el cilantro y el cebollín. Reserva una pequeña cantidad de ambos para decorar al final, si lo deseas.\\n  \\n2. **Batir los huevos**: En un bol, rompe los huevos y bátelos con un tenedor o un batidor de mano hasta que queden bien mezclados. Agrega una pizca de sal y pimienta al gusto.\\n\\n3. **Calentar la sartén**: Coloca una sartén antiadherente a fuego medio y derrite la mantequilla, asegurándote de que cubra toda la superficie de la sartén.\\n\\n4. **Cocinar la mezcla de huevos**: Vierte los huevos batidos en la sartén caliente. Deja que se cocinen unos momentos sin mover. Luego, usando una espátula, mueve suavemente los bordes hacia el centro de la sartén mientras inclinas ligeramente la sartén para permitir que la mezcla líquida se distribuya y se cocine de manera uniforme.\\n\\n5. **Añadir cilantro y cebollín**: Cuando los huevos estén casi cocidos pero aún con un poco de líquido en la parte superior, distribuye uniformemente el cilantro y el cebollín picados sobre la omelette. Cocina por unos minutos más hasta que los huevos estén completamente cocidos.\\n\\n6. **Doblar y servir**: Con cuidado, dobla la omelette por la mitad usando la espátula. Desliza la omelette en un plato y decora con el cilantro y cebollín reservados.\\n\\n¡Listo! Ahora tienes una omelette deliciosa y llena de sabor. Puedes acompañarla con una ensalada fresca o unas rodajas de pan tostado. ¡Buen provecho!', role='assistant', function_call=None, tool_calls=None))], created=1722550299, model='gpt-4o-2024-05-13', object='chat.completion', service_tier=None, system_fingerprint='fp_4e2b2da518', usage=CompletionUsage(completion_tokens=444, prompt_tokens=43, total_tokens=487))"
      ]
     },
     "execution_count": 2,
     "metadata": {},
     "output_type": "execute_result"
    }
   ],
   "source": [
    "from openai import OpenAI\n",
    "\n",
    "client = OpenAI()\n",
    "\n",
    "system_prompt = \"You're a seasoned chef working as a helpful mentor to cooking enthusiasts.\"\n",
    "\n",
    "result = client.chat.completions.create(\n",
    "    messages=[\n",
    "        {\n",
    "            \"role\": \"system\",\n",
    "            \"content\": system_prompt,\n",
    "        },\n",
    "        {\n",
    "            \"role\": \"user\",\n",
    "            \"content\": \"Tengo huevos, mantequilla, cilantro, y cebollín, qué comida rica puedo hacer?\",\n",
    "        },\n",
    "    ],\n",
    "    model=\"gpt-4o\",\n",
    ")\n",
    "result"
   ]
  },
  {
   "cell_type": "code",
   "execution_count": 3,
   "id": "3c0c2340-8080-42a2-831b-88e87acdf31b",
   "metadata": {},
   "outputs": [
    {
     "name": "stdout",
     "output_type": "stream",
     "text": [
      "¡Con esos ingredientes puedes preparar una deliciosa omelette! Aquí tienes una receta sencilla:\n",
      "\n",
      "### Omelette con cilantro y cebollín\n",
      "\n",
      "#### Ingredientes:\n",
      "- 3 huevos\n",
      "- 1 cucharada de mantequilla\n",
      "- 2 cucharadas de cilantro fresco, picado\n",
      "- 2 cucharadas de cebollín, picado\n",
      "- Sal y pimienta al gusto\n",
      "\n",
      "#### Instrucciones:\n",
      "\n",
      "1. **Preparar los ingredientes**: Pica finamente el cilantro y el cebollín. Reserva una pequeña cantidad de ambos para decorar al final, si lo deseas.\n",
      "  \n",
      "2. **Batir los huevos**: En un bol, rompe los huevos y bátelos con un tenedor o un batidor de mano hasta que queden bien mezclados. Agrega una pizca de sal y pimienta al gusto.\n",
      "\n",
      "3. **Calentar la sartén**: Coloca una sartén antiadherente a fuego medio y derrite la mantequilla, asegurándote de que cubra toda la superficie de la sartén.\n",
      "\n",
      "4. **Cocinar la mezcla de huevos**: Vierte los huevos batidos en la sartén caliente. Deja que se cocinen unos momentos sin mover. Luego, usando una espátula, mueve suavemente los bordes hacia el centro de la sartén mientras inclinas ligeramente la sartén para permitir que la mezcla líquida se distribuya y se cocine de manera uniforme.\n",
      "\n",
      "5. **Añadir cilantro y cebollín**: Cuando los huevos estén casi cocidos pero aún con un poco de líquido en la parte superior, distribuye uniformemente el cilantro y el cebollín picados sobre la omelette. Cocina por unos minutos más hasta que los huevos estén completamente cocidos.\n",
      "\n",
      "6. **Doblar y servir**: Con cuidado, dobla la omelette por la mitad usando la espátula. Desliza la omelette en un plato y decora con el cilantro y cebollín reservados.\n",
      "\n",
      "¡Listo! Ahora tienes una omelette deliciosa y llena de sabor. Puedes acompañarla con una ensalada fresca o unas rodajas de pan tostado. ¡Buen provecho!\n"
     ]
    }
   ],
   "source": [
    "print(result.choices[0].message.content)"
   ]
  },
  {
   "cell_type": "markdown",
   "id": "12b9c4b0-98a4-4e0b-a1b4-9f58ed0f6fdf",
   "metadata": {},
   "source": [
    "### Un desvío temporal: observabilidad con Langsmith\n",
    "Langchain ofrece un servicio para observabilidad y evaluación de aplicaciones con LLMs (y otras), podemos probar la versión más simple de una traza en Langsmith\n",
    "\n",
    "Necesitamos definir las variables de ambiente `LANGCHAIN_TRACING_V2=true` y `LANGCHAIN_API_KEY=lsv2_...`"
   ]
  },
  {
   "cell_type": "code",
   "execution_count": 4,
   "id": "96138972-e538-45f5-b755-3fd6d3c70ac3",
   "metadata": {},
   "outputs": [],
   "source": [
    "from langsmith.wrappers import wrap_openai\n",
    "from langsmith import traceable\n",
    "\n",
    "# Wrap OpenAI client to trace its inputs/outputs\n",
    "ls_client = wrap_openai(client)\n",
    "\n",
    "# We can decorate any function with @traceable too!\n",
    "@traceable\n",
    "def ask_chef(message: str) -> str | None:\n",
    "    result = client.chat.completions.create(\n",
    "        messages=[\n",
    "            {\n",
    "                \"role\": \"system\",\n",
    "                \"content\": system_prompt,\n",
    "            },\n",
    "            {\n",
    "                \"role\": \"user\",\n",
    "                \"content\": message,\n",
    "            },\n",
    "        ],\n",
    "        model=\"gpt-4o\",\n",
    "    )\n",
    "    return result.choices[0].message.content"
   ]
  },
  {
   "cell_type": "code",
   "execution_count": 5,
   "id": "7577be68-a86e-48a4-937d-f2950fd8e20f",
   "metadata": {},
   "outputs": [
    {
     "name": "stdout",
     "output_type": "stream",
     "text": [
      "Absolutely! If you're looking to cook a whole chicken quickly, here are a few methods that can help:\n",
      "\n",
      "### Spatchcock (Butterflied) Chicken:\n",
      "- **Time Required**: Approximately 45 minutes.\n",
      "- **Method**:\n",
      "1. **Preheat Oven**: Set your oven to 450°F (230°C).\n",
      "2. **Prepare Chicken**: Place the chicken breast-side down. Use kitchen shears to cut along both sides of the backbone and remove it. Flip the chicken over and press down on the breastbone to flatten it out completely.\n",
      "3. **Season**: Rub the chicken with olive oil, and season generously with salt, pepper, and any herbs or spices you like.\n",
      "4. **Cook**: Place the chicken on a baking sheet or in a large cast-iron skillet, breast side up. Roast in the preheated oven for about 35-45 minutes, until the internal temperature reaches 165°F (75°C).\n",
      "5. **Rest & Serve**: Let the chicken rest for 10 minutes before carving.\n",
      "\n",
      "### Chicken in a Pressure Cooker (Instant Pot):\n",
      "- **Time Required**: Approximately 30-35 minutes.\n",
      "- **Method**:\n",
      "1. **Season Chicken**: Rub with olive oil, and season with your favorite herbs and spices.\n",
      "2. **Sear (Optional but Recommended)**: On the sauté setting, sear the chicken on all sides until golden brown.\n",
      "3. **Pressure Cook**: Add about 1 cup of chicken broth or water to the pot. Place the chicken on the trivet inside the pressure cooker. Seal the lid and cook on high pressure for 6 minutes per pound of chicken, plus 10 minutes (e.g., a 4-pound chicken would cook for 34 minutes).\n",
      "4. **Natural Release**: Allow the pressure to release naturally for 10-15 minutes before opening the lid.\n",
      "5. **Rest & Serve**: Let the chicken rest for a few minutes before carving.\n",
      "\n",
      "### Cut-Up Chicken Parts:\n",
      "- **Time Required**: Approximately 30-35 minutes.\n",
      "- **Method**:\n",
      "1. **Preheat Oven**: Set your oven to 425°F (220°C).\n",
      "2. **Prepare Chicken**: Cut the chicken into parts (legs, thighs, wings, breasts). Cutting it up helps it cook more quickly and evenly.\n",
      "3. **Season**: Rub with olive oil and season with salt, pepper, and herbs.\n",
      "4. **Cook**: Lay out the chicken pieces on a baking sheet with some space between them. Roast in the oven for 25-35 minutes, or until the internal temperature of the thickest part reaches 165°F (75°C).\n",
      "\n",
      "### Tips for Faster Cooking:\n",
      "- **Thaw Fully**: Ensure the chicken is fully thawed if it was previously frozen.\n",
      "- **Smaller Bird**: Using a smaller chicken will reduce cooking time.\n",
      "- **High Heat Cooking**: Cooking at higher temperatures will shorten the cooking time but keep an eye on it to prevent burning.\n",
      "\n",
      "Any of these methods should provide you with a quickly cooked, delicious chicken. Enjoy!\n"
     ]
    }
   ],
   "source": [
    "print(ask_chef(\"I have a whole chicken, and I want to cook it as quickly as possible. Any suggestions?\"))"
   ]
  },
  {
   "cell_type": "markdown",
   "id": "559c980c-3406-4ae7-a691-0d69a3c5834a",
   "metadata": {},
   "source": [
    "Ahora podemos ir a [Langsmith](https://smith.langchain.com) y revisar nuestras trazas"
   ]
  },
  {
   "cell_type": "markdown",
   "id": "716a325f-e582-4427-aa33-c42de7e50fe5",
   "metadata": {},
   "source": [
    "## Langchain\n",
    "Empezó como un framework para construir prompts y darle _superpoderes_ a los LLMs. En la época en que no había chat models, ni function calling. Con puro prompting te daba una interfaz que permitía crear agentes con herramientas, chatbots con historial, etc.\n",
    "\n",
    "Hoy ya no es tan necesario todo eso pero sigue siendo una forma relativamente limpia y ordenada de combinar bloques simples para armar estructuras más complejas."
   ]
  },
  {
   "cell_type": "markdown",
   "id": "4f716d59-0245-4704-9e18-e4402f24706a",
   "metadata": {},
   "source": [
    "### Langchain básico\n",
    "Vamos a construir lo mismo de antes pero con las primitivas de Langchain"
   ]
  },
  {
   "cell_type": "code",
   "execution_count": 6,
   "id": "02e4153d-04fe-4357-b119-0c5c15559f70",
   "metadata": {},
   "outputs": [],
   "source": [
    "from langchain_openai import ChatOpenAI\n",
    "\n",
    "model = ChatOpenAI(model=\"gpt-4o\")"
   ]
  },
  {
   "cell_type": "markdown",
   "id": "dfce201a-12a5-43c9-9e14-12d182231259",
   "metadata": {},
   "source": [
    "Ahora lo invocamos con los mensajes de sistema y usuario..."
   ]
  },
  {
   "cell_type": "code",
   "execution_count": 7,
   "id": "b92e6bc3-884e-4fd9-b448-40bad432c37d",
   "metadata": {},
   "outputs": [
    {
     "data": {
      "text/plain": [
       "AIMessage(content='¡Claro! El Barros Luco es un sándwich chileno clásico, simple y delicioso. Aquí tienes una receta básica para prepararlo:\\n\\n### Ingredientes:\\n- 1 pan de marraqueta (puedes usar otro tipo de pan si prefieres, como pan francés o pan ciabatta)\\n- 150 gramos de carne de res (puedes usar bistec delgado o lomo)\\n- 2 a 3 rebanadas de queso (generalmente se usa queso mantecoso, pero puedes usar otro queso derretible como queso cheddar o mozzarella)\\n- Sal y pimienta al gusto\\n- Aceite o mantequilla para cocinar\\n\\n### Instrucciones:\\n\\n1. **Preparar la Carne:**\\n   - Si la carne no está en filetes delgados, puedes golpearla un poco para hacerla más delgada y tierna.\\n   - Sazona la carne con sal y pimienta al gusto.\\n\\n2. **Cocinar la Carne:**\\n   - En una sartén caliente, añade un poco de aceite o mantequilla.\\n   - Cocina la carne a fuego medio-alto hasta que esté dorada y cocida a tu gusto. Esto normalmente toma unos 2-3 minutos por lado, dependiendo del grosor.\\n\\n3. **Derretir el Queso:**\\n   - Coloca las rebanadas de queso sobre la carne mientras aún está en la sartén caliente, y cubre la sartén con una tapa para ayudar a que el queso se derrita. Esto debería tomar alrededor de 1-2 minutos.\\n\\n4. **Preparar el Pan:**\\n   - Mientras la carne y el queso se cocinan, corta el pan de marraqueta por la mitad y tuéstalo ligeramente en otra sartén o en una tostadora, si lo prefieres.\\n\\n5. **Montar el Sándwich:**\\n   - Coloca la carne con el queso derretido sobre una de las mitades del pan tostado.\\n   - Cubre con la otra mitad del pan.\\n\\n6. **Servir:**\\n   - Sirve inmediatamente mientras está caliente y disfruta de tu delicioso Barros Luco.\\n\\n### Consejos Adicionales:\\n- Puedes añadir otros ingredientes como cebolla caramelizada, champiñones o un poco de mostaza si deseas darle un toque personal.\\n- Acompaña tu Barros Luco con papas fritas o una ensalada fresca.\\n\\n¡Espero que disfrutes preparando y comiendo este delicioso sándwich chileno!', response_metadata={'token_usage': {'completion_tokens': 515, 'prompt_tokens': 32, 'total_tokens': 547}, 'model_name': 'gpt-4o-2024-05-13', 'system_fingerprint': 'fp_4e2b2da518', 'finish_reason': 'stop', 'logprobs': None}, id='run-57fb56a8-a312-4d6b-9aa1-e84933beb825-0', usage_metadata={'input_tokens': 32, 'output_tokens': 515, 'total_tokens': 547})"
      ]
     },
     "execution_count": 7,
     "metadata": {},
     "output_type": "execute_result"
    }
   ],
   "source": [
    "from langchain_core.messages import HumanMessage, SystemMessage\n",
    "\n",
    "messages = [\n",
    "    SystemMessage(system_prompt),\n",
    "    HumanMessage(\"cómo preparo un barros luco?\"),\n",
    "]\n",
    "\n",
    "result = model.invoke(messages)\n",
    "result"
   ]
  },
  {
   "cell_type": "code",
   "execution_count": 8,
   "id": "2b861b9f-70eb-4292-82d9-a393b4c02e50",
   "metadata": {},
   "outputs": [
    {
     "name": "stdout",
     "output_type": "stream",
     "text": [
      "¡Claro! El Barros Luco es un sándwich chileno clásico, simple y delicioso. Aquí tienes una receta básica para prepararlo:\n",
      "\n",
      "### Ingredientes:\n",
      "- 1 pan de marraqueta (puedes usar otro tipo de pan si prefieres, como pan francés o pan ciabatta)\n",
      "- 150 gramos de carne de res (puedes usar bistec delgado o lomo)\n",
      "- 2 a 3 rebanadas de queso (generalmente se usa queso mantecoso, pero puedes usar otro queso derretible como queso cheddar o mozzarella)\n",
      "- Sal y pimienta al gusto\n",
      "- Aceite o mantequilla para cocinar\n",
      "\n",
      "### Instrucciones:\n",
      "\n",
      "1. **Preparar la Carne:**\n",
      "   - Si la carne no está en filetes delgados, puedes golpearla un poco para hacerla más delgada y tierna.\n",
      "   - Sazona la carne con sal y pimienta al gusto.\n",
      "\n",
      "2. **Cocinar la Carne:**\n",
      "   - En una sartén caliente, añade un poco de aceite o mantequilla.\n",
      "   - Cocina la carne a fuego medio-alto hasta que esté dorada y cocida a tu gusto. Esto normalmente toma unos 2-3 minutos por lado, dependiendo del grosor.\n",
      "\n",
      "3. **Derretir el Queso:**\n",
      "   - Coloca las rebanadas de queso sobre la carne mientras aún está en la sartén caliente, y cubre la sartén con una tapa para ayudar a que el queso se derrita. Esto debería tomar alrededor de 1-2 minutos.\n",
      "\n",
      "4. **Preparar el Pan:**\n",
      "   - Mientras la carne y el queso se cocinan, corta el pan de marraqueta por la mitad y tuéstalo ligeramente en otra sartén o en una tostadora, si lo prefieres.\n",
      "\n",
      "5. **Montar el Sándwich:**\n",
      "   - Coloca la carne con el queso derretido sobre una de las mitades del pan tostado.\n",
      "   - Cubre con la otra mitad del pan.\n",
      "\n",
      "6. **Servir:**\n",
      "   - Sirve inmediatamente mientras está caliente y disfruta de tu delicioso Barros Luco.\n",
      "\n",
      "### Consejos Adicionales:\n",
      "- Puedes añadir otros ingredientes como cebolla caramelizada, champiñones o un poco de mostaza si deseas darle un toque personal.\n",
      "- Acompaña tu Barros Luco con papas fritas o una ensalada fresca.\n",
      "\n",
      "¡Espero que disfrutes preparando y comiendo este delicioso sándwich chileno!\n"
     ]
    }
   ],
   "source": [
    "print(result.content)"
   ]
  },
  {
   "cell_type": "markdown",
   "id": "d85d9879-65d7-4605-94f0-972fdddf9a44",
   "metadata": {},
   "source": [
    "(Y si vamos a mirar a [Langsmith](https://smith.langchain.com)?)"
   ]
  },
  {
   "cell_type": "markdown",
   "id": "e27411df-b4bc-459e-bb53-4c5600b4eed5",
   "metadata": {},
   "source": [
    "OK pero hasta ahora no ha simplificado mucho... podemos empezar a combinar bloques, como por ejemplo para extraer el mensaje de la respuesta"
   ]
  },
  {
   "cell_type": "code",
   "execution_count": 9,
   "id": "37a48ccc-9dba-4e8c-ba9f-8ef1c06f1172",
   "metadata": {},
   "outputs": [
    {
     "name": "stdout",
     "output_type": "stream",
     "text": [
      "¡Claro! El Barros Luco es un sándwich chileno muy popular, conocido por su sencillez y delicioso sabor. Aquí te dejo una receta básica para prepararlo:\n",
      "\n",
      "### Ingredientes:\n",
      "- 2 panes (puede ser marraqueta, hallulla o pan de tu preferencia)\n",
      "- 200 gramos de carne de vacuno (puede ser lomo, posta o cualquier corte tierno)\n",
      "- 2-4 lonchas de queso (puedes usar queso mantecoso, gouda o el que prefieras que se derrita bien)\n",
      "- Sal y pimienta al gusto\n",
      "- Aceite o mantequilla para cocinar\n",
      "\n",
      "### Instrucciones:\n",
      "1. **Preparar la carne**: Corta la carne en tiras finas o en filetes delgados. Si prefieres, puedes pedirle al carnicero que lo haga por ti.\n",
      "\n",
      "2. **Cocinar la carne**: En una sartén grande, calienta un poco de aceite o mantequilla a fuego medio-alto. Agrega la carne y cocina hasta que esté dorada por ambos lados, unos 3-5 minutos dependiendo del grosor de la carne. Sazona con sal y pimienta al gusto.\n",
      "\n",
      "3. **Preparar el queso**: Mientras la carne se cocina, puedes calentar las lonchas de queso en una sartén separada a fuego lento para que se derritan un poco. Esto es opcional, pero ayuda a que el queso se derrita más uniformemente en el sándwich.\n",
      "\n",
      "4. **Montar el sándwich**:\n",
      "   - Abre los panes por la mitad.\n",
      "   - Coloca la carne cocida sobre una de las mitades del pan.\n",
      "   - Encima de la carne, coloca las lonchas de queso derretido.\n",
      "   - Cubre con la otra mitad del pan.\n",
      "\n",
      "5. **Calentar el sándwich** (opcional): Puedes calentar el sándwich completo en una sartén o prensa para sándwiches durante un par de minutos por cada lado para que el pan quede crujiente y el queso se derrita por completo.\n",
      "\n",
      "6. **Servir**: Corta el sándwich por la mitad si lo deseas y sírvelo caliente.\n",
      "\n",
      "¡Y listo! Ya tienes un delicioso Barros Luco para disfrutar. Puedes acompañarlo con papas fritas, ensalada o cualquier guarnición de tu preferencia. ¡Buen provecho!\n"
     ]
    }
   ],
   "source": [
    "from langchain_core.output_parsers import StrOutputParser\n",
    "\n",
    "chain = model | StrOutputParser()\n",
    "\n",
    "print(chain.invoke(messages))"
   ]
  },
  {
   "cell_type": "markdown",
   "id": "dc4bef7b-4160-4303-a2fc-d2412a9aa7c1",
   "metadata": {},
   "source": [
    "Y aprovechemos de pasar por Prompt Templates, que nos permiten armar prompts más dinámicos"
   ]
  },
  {
   "cell_type": "code",
   "execution_count": 10,
   "id": "b3f69609-6a74-40b8-bc58-450070cf91fe",
   "metadata": {},
   "outputs": [],
   "source": [
    "from langchain_core.prompts import ChatPromptTemplate\n",
    "\n",
    "prompt_template = ChatPromptTemplate.from_messages([\n",
    "    # Note that Langchain can almost always take (type, content) tuples in place of the specific message object types\n",
    "    (\"system\", system_prompt + \" You always answer in {language}.\"),\n",
    "    (\"human\", \"{input}\"),\n",
    "])"
   ]
  },
  {
   "cell_type": "code",
   "execution_count": 11,
   "id": "88c3f995-7db7-415c-8072-99fd65912fa1",
   "metadata": {},
   "outputs": [
    {
     "name": "stdout",
     "output_type": "stream",
     "text": [
      "寿司の作り方についてお教えしますね。\n",
      "\n",
      "### 材料：\n",
      "- 寿司米（コシヒカリなど）\n",
      "- 寿司酢（米酢、砂糖、塩を混ぜたもの）\n",
      "- 海苔（巻き寿司用）\n",
      "- 新鮮な魚（サーモン、マグロなど）\n",
      "- 野菜（キュウリ、アボカドなど）\n",
      "- 醤油\n",
      "- わさび\n",
      "- ガリ（甘酢生姜）\n",
      "\n",
      "### 手順：\n",
      "\n",
      "1. **寿司米の準備**\n",
      "   1. 寿司米をよく洗い、透明になるまで水で研ぎます。\n",
      "   2. 炊飯器で適量の水と共に炊きます。\n",
      "   3. 炊き上がったご飯をボウルに移し、寿司酢を少しずつ加えながら、しゃもじで切るように混ぜます。ご飯が冷めるまで扇で風を当てながら混ぜ続けます。\n",
      "\n",
      "2. **具材の準備**\n",
      "   1. 新鮮な魚を薄くスライスします。\n",
      "   2. キュウリやアボカドなどの野菜を細長く切ります。\n",
      "\n",
      "3. **巻き寿司の作り方**\n",
      "   1. 巻きすの上に海苔を置きます。\n",
      "   2. 海苔の上に寿司米を広げます。端の方は少し残すようにします。\n",
      "   3. 中央に魚や野菜を並べます。\n",
      "   4. 巻きすを使って、海苔を巻き込みながらしっかりと巻きます。\n",
      "   5. 巻き終わったら、適当な大きさに切ります。\n",
      "\n",
      "4. **握り寿司の作り方**\n",
      "   1. 手に水をつけ、寿司米を適量手に取ります。\n",
      "   2. 軽く握って小さな俵型に整えます。\n",
      "   3. スライスした魚を上に乗せ、軽く押さえます。\n",
      "\n",
      "### 提供方法：\n",
      "- お皿に寿司を並べ、醤油、わさび、ガリを添えて提供します。\n",
      "\n",
      "おいしい寿司を作るためには、新鮮な食材と丁寧な準備が重要です。ぜひ挑戦してみてください！\n"
     ]
    }
   ],
   "source": [
    "chain = prompt_template | model | StrOutputParser()\n",
    "\n",
    "print(chain.invoke({\"language\": \"japanese\", \"input\": \"how do I make sushi?\"}))"
   ]
  },
  {
   "cell_type": "markdown",
   "id": "98ab3ca0-9e75-41b2-925e-7969c2ac225e",
   "metadata": {},
   "source": [
    "## Hagamos un Chatbot\n",
    "Qué gracia tiene un chatbot que no tengamos aun? Memoria!"
   ]
  },
  {
   "cell_type": "code",
   "execution_count": 12,
   "id": "d8687873-a832-407b-9d09-5af22ffeaa99",
   "metadata": {},
   "outputs": [
    {
     "name": "stdout",
     "output_type": "stream",
     "text": [
      "Rodrigo.\n"
     ]
    }
   ],
   "source": [
    "from langchain_core.messages import AIMessage\n",
    "\n",
    "messages = [\n",
    "    SystemMessage(\"You're a simple companion. You go straight to the point and give very concise answers.\"),\n",
    "    HumanMessage(\"Hola, me llamo Rodrigo\"),\n",
    "    AIMessage(\"Hola Rodrigo!\"),\n",
    "    HumanMessage(\"Cómo me llamo?\"),\n",
    "]\n",
    "chain = model | StrOutputParser()\n",
    "print(chain.invoke(messages))"
   ]
  },
  {
   "cell_type": "markdown",
   "id": "8ab8acda-fba5-41a0-8890-74ed1540c96f",
   "metadata": {},
   "source": [
    "Ahora... cómo hacemos que sea más interactivo?"
   ]
  },
  {
   "cell_type": "code",
   "execution_count": 13,
   "id": "e3124509-f425-4b39-ae91-b4bb7099b34c",
   "metadata": {},
   "outputs": [],
   "source": [
    "from langchain_core.prompts import MessagesPlaceholder, HumanMessagePromptTemplate\n",
    "\n",
    "history = [\n",
    "    HumanMessage(\"Hola, me llamo Rodrigo\"),\n",
    "    AIMessage(\"Hola Rodrigo!\"),\n",
    "]\n",
    "\n",
    "messages = [\n",
    "    SystemMessage(\"You're a simple companion. You go straight to the point and give very concise answers.\"),\n",
    "    # We need a place for the chat history until \"now\"\n",
    "    MessagesPlaceholder(variable_name=\"history\"),\n",
    "    # And then the new user message\n",
    "    HumanMessagePromptTemplate.from_template(\"{user_message}\"),\n",
    "]\n",
    "\n",
    "chain = ChatPromptTemplate.from_messages(messages) | model | StrOutputParser()\n",
    "\n",
    "@traceable\n",
    "def chat(message: str) -> str:\n",
    "    return chain.invoke({\"history\": history, \"user_message\": message})    "
   ]
  },
  {
   "cell_type": "code",
   "execution_count": 14,
   "id": "4c916490-6c23-4f55-ae5d-4f836a3ce8c3",
   "metadata": {},
   "outputs": [
    {
     "data": {
      "text/plain": [
       "'Rodrigo.'"
      ]
     },
     "execution_count": 14,
     "metadata": {},
     "output_type": "execute_result"
    }
   ],
   "source": [
    "chat(\"cual es mi nombre?\")"
   ]
  },
  {
   "cell_type": "markdown",
   "id": "e0145c9b-364e-41a0-b9a1-bacaf0101c1c",
   "metadata": {},
   "source": [
    "Pero nosotros tenemos que manejar la memoria \"a mano\", agregar los mensajes en la historia, etc, etc.\n",
    "\n",
    "Langchain facilita todo eso, envolviendo un `Runnable` (e.g. una cadena) en algo que inyecta historia, y captura el _output_ para agregarlo a la historia para después: `RunnableWithMessageHistory`."
   ]
  },
  {
   "cell_type": "code",
   "execution_count": 15,
   "id": "e92128da-7fca-43b2-b7ed-bb29ea1ac08a",
   "metadata": {},
   "outputs": [],
   "source": [
    "from langchain_core.chat_history import InMemoryChatMessageHistory\n",
    "from langchain_core.runnables import RunnableWithMessageHistory\n",
    "\n",
    "\n",
    "chat_history = InMemoryChatMessageHistory()\n",
    "\n",
    "def get_history() -> InMemoryChatMessageHistory:\n",
    "    return chat_history\n",
    "\n",
    "prompt = ChatPromptTemplate.from_messages([\n",
    "    SystemMessage(system_prompt),\n",
    "    MessagesPlaceholder(variable_name=\"messages\"),\n",
    "])\n",
    "\n",
    "base_chain = prompt | model\n",
    "chain = RunnableWithMessageHistory(base_chain, get_history, input_messages_key=\"messages\") | StrOutputParser()"
   ]
  },
  {
   "cell_type": "code",
   "execution_count": 16,
   "id": "78d2d2d1-031b-4621-b785-6725a1e65e03",
   "metadata": {},
   "outputs": [
    {
     "name": "stdout",
     "output_type": "stream",
     "text": [
      "¡Hola! Parece que tienes los ingredientes perfectos para preparar una clásica tortilla española o tortilla de patatas. Aquí tienes una receta sencilla para que puedas hacerla:\n",
      "\n",
      "**Ingredientes:**\n",
      "- 4-5 papas medianas\n",
      "- 1 cebolla grande\n",
      "- 6-7 huevos\n",
      "- Aceite de oliva\n",
      "- Sal al gusto\n",
      "\n",
      "**Instrucciones:**\n",
      "\n",
      "1. **Preparar las papas y la cebolla:**\n",
      "   - Pela las papas y córtalas en rodajas finas.\n",
      "   - Pela la cebolla y córtala en juliana (tiras finas).\n",
      "\n",
      "2. **Freír las papas y la cebolla:**\n",
      "   - En una sartén grande, calienta abundante aceite de oliva a fuego medio.\n",
      "   - Añade las papas y la cebolla a la sartén y cocina hasta que estén blandas y ligeramente doradas. Remueve de vez en cuando para que no se peguen.\n",
      "   - Una vez cocidas, retira las papas y la cebolla con una espumadera y escúrrelas bien para eliminar el exceso de aceite. Puedes ponerlas sobre papel absorbente.\n",
      "\n",
      "3. **Preparar la mezcla de huevos:**\n",
      "   - En un bol grande, bate los huevos con una pizca de sal.\n",
      "   - Añade las papas y la cebolla a los huevos batidos y mezcla bien.\n",
      "\n",
      "4. **Cocinar la tortilla:**\n",
      "   - En una sartén antiadherente, calienta un poco de aceite de oliva a fuego medio.\n",
      "   - Vierte la mezcla de huevos, papas y cebolla en la sartén y distribuye uniformemente.\n",
      "   - Cocina a fuego medio-bajo durante unos 5-7 minutos, o hasta que veas que la parte inferior está dorada y la parte superior comienza a cuajar.\n",
      "   - Con cuidado, coloca un plato grande sobre la sartén y voltea la tortilla. Luego, desliza la tortilla de nuevo en la sartén para cocinar el otro lado. Cocina por otros 5 minutos o hasta que esté dorada y bien cocida por dentro.\n",
      "\n",
      "5. **Servir:**\n",
      "   - Retira la tortilla de la sartén y déjala reposar unos minutos antes de cortarla.\n",
      "   - Sirve la tortilla española caliente o a temperatura ambiente. ¡Es deliciosa de cualquier manera!\n",
      "\n",
      "¡Espero que disfrutes de tu tortilla española! Si tienes alguna pregunta o necesitas más ayuda, no dudes en decírmelo.\n"
     ]
    }
   ],
   "source": [
    "print(chain.invoke({\n",
    "    \"messages\":[\n",
    "        HumanMessage(content=\"hola, quiero cocinar algo con huevos y papas y cebolla\")\n",
    "    ]\n",
    "}))"
   ]
  },
  {
   "cell_type": "code",
   "execution_count": 17,
   "id": "9d853990-ab10-4740-9b93-f895343ed514",
   "metadata": {},
   "outputs": [
    {
     "name": "stdout",
     "output_type": "stream",
     "text": [
      "¡No hay problema! El jamón también es una excelente adición a la tortilla española y le dará un sabor muy rico. Aquí te dejo una versión ajustada de la receta para incluir el jamón:\n",
      "\n",
      "**Ingredientes:**\n",
      "- 4-5 papas medianas\n",
      "- 1 cebolla grande\n",
      "- 6-7 huevos\n",
      "- 100-150 gramos de jamón (puede ser jamón serrano o jamón cocido, según prefieras)\n",
      "- Aceite de oliva\n",
      "- Sal al gusto\n",
      "\n",
      "**Instrucciones:**\n",
      "\n",
      "1. **Preparar las papas y la cebolla:**\n",
      "   - Pela las papas y córtalas en rodajas finas.\n",
      "   - Pela la cebolla y córtala en juliana (tiras finas).\n",
      "\n",
      "2. **Freír las papas y la cebolla:**\n",
      "   - En una sartén grande, calienta abundante aceite de oliva a fuego medio.\n",
      "   - Añade las papas y la cebolla a la sartén y cocina hasta que estén blandas y ligeramente doradas. Remueve de vez en cuando para que no se peguen.\n",
      "   - Una vez cocidas, retira las papas y la cebolla con una espumadera y escúrrelas bien para eliminar el exceso de aceite. Puedes ponerlas sobre papel absorbente.\n",
      "\n",
      "3. **Preparar el jamón:**\n",
      "   - Corta el jamón en trozos pequeños o en tiras, según tu preferencia.\n",
      "\n",
      "4. **Preparar la mezcla de huevos:**\n",
      "   - En un bol grande, bate los huevos con una pizca de sal.\n",
      "   - Añade las papas y la cebolla a los huevos batidos y mezcla bien.\n",
      "   - Incorpora el jamón a la mezcla y revuelve para que se distribuya uniformemente.\n",
      "\n",
      "5. **Cocinar la tortilla:**\n",
      "   - En una sartén antiadherente, calienta un poco de aceite de oliva a fuego medio.\n",
      "   - Vierte la mezcla de huevos, papas, cebolla y jamón en la sartén y distribuye uniformemente.\n",
      "   - Cocina a fuego medio-bajo durante unos 5-7 minutos, o hasta que veas que la parte inferior está dorada y la parte superior comienza a cuajar.\n",
      "   - Con cuidado, coloca un plato grande sobre la sartén y voltea la tortilla. Luego, desliza la tortilla de nuevo en la sartén para cocinar el otro lado. Cocina por otros 5 minutos o hasta que esté dorada y bien cocida por dentro.\n",
      "\n",
      "6. **Servir:**\n",
      "   - Retira la tortilla de la sartén y déjala reposar unos minutos antes de cortarla.\n",
      "   - Sirve la tortilla española con jamón caliente o a temperatura ambiente. ¡Es deliciosa de cualquier manera!\n",
      "\n",
      "¡Espero que disfrutes de esta versión de la tortilla española con jamón! Si tienes más preguntas o necesitas más consejos, aquí estoy para ayudarte.\n"
     ]
    }
   ],
   "source": [
    "print(chain.invoke({\n",
    "    \"messages\": [\n",
    "        HumanMessage(\"y si tengo chorizo?\"),\n",
    "        HumanMessage(\"Ah no, me equivoqué, no tengo chorizo, pero tengo jamón\"),\n",
    "    ]\n",
    "}))"
   ]
  },
  {
   "cell_type": "markdown",
   "id": "27436aee-9e90-4ff1-b6b1-a89911c4a3b5",
   "metadata": {},
   "source": [
    "Excelente, ahora tenemos memoria y funciona como un chat interactivo.\n",
    "\n",
    "Langchain tiene varias implementaciones de `ChatMessageHistory`, para guardar historial en bases de datos, en archivos, etc. Explorar esas queda como ejercicio para el lector.\n",
    "\n",
    "Ahora veamos un ejemplo de cómo mantener varias sesiones en paralelo... podemos pasar configuración como input de la cadena, que podrá ser usada por sus componentes. Ejemplo:"
   ]
  },
  {
   "cell_type": "code",
   "execution_count": 18,
   "id": "aeeff77f-ef10-4f43-9791-44c7cf68da27",
   "metadata": {},
   "outputs": [],
   "source": [
    "from collections import defaultdict\n",
    "\n",
    "histories: dict[str, InMemoryChatMessageHistory] = defaultdict(InMemoryChatMessageHistory)\n",
    "\n",
    "def get_history_by_session_id(session_id: str) -> InMemoryChatMessageHistory:\n",
    "    return histories[session_id]\n",
    "\n",
    "chain = RunnableWithMessageHistory(base_chain, get_history_by_session_id, input_messages_key=\"messages\") | StrOutputParser()\n",
    "\n",
    "@traceable\n",
    "def chat(session_id: str, message: str) -> str:\n",
    "    config = {\n",
    "        \"configurable\": {\n",
    "            \"session_id\": session_id,\n",
    "        }\n",
    "    }\n",
    "    return chain.invoke(\n",
    "        {\n",
    "            \"messages\": [HumanMessage(message)],\n",
    "        },\n",
    "        config=config,\n",
    "    )"
   ]
  },
  {
   "cell_type": "code",
   "execution_count": 19,
   "id": "06746f3c-4a05-4f65-955d-e02a5cc24361",
   "metadata": {},
   "outputs": [
    {
     "name": "stdout",
     "output_type": "stream",
     "text": [
      "¡Claro! El pastel de choclo es un plato delicioso típico de la cocina chilena. Aquí tienes una lista de ingredientes que necesitarás para preparar un pastel de choclo tradicional:\n",
      "\n",
      "### Ingredientes para la \"pasta de choclo\":\n",
      "- 8-10 choclos (maíz) frescos\n",
      "- 1 taza de leche\n",
      "- 2 cucharadas de mantequilla\n",
      "- 1 cucharadita de sal\n",
      "- 1 cucharadita de azúcar (opcional)\n",
      "\n",
      "### Ingredientes para el relleno:\n",
      "- 500 gramos de carne molida (puede ser de res o una mezcla de res y cerdo)\n",
      "- 1 cebolla grande, picada en cuadros pequeños\n",
      "- 2 dientes de ajo, picados finamente\n",
      "- 1 cucharadita de comino\n",
      "- 1 cucharadita de ají de color (pimentón dulce)\n",
      "- Sal y pimienta al gusto\n",
      "- 2 cucharadas de aceite vegetal\n",
      "- 2 huevos duros, cortados en cuartos\n",
      "- 1 pechuga de pollo cocida y desmenuzada (opcional)\n",
      "- 1/2 taza de aceitunas negras (sin carozo)\n",
      "- 1/2 taza de pasas (opcional)\n",
      "\n",
      "### Ingredientes adicionales:\n",
      "- Azúcar para espolvorear sobre el pastel antes de hornear (opcional, pero tradicional en algunas recetas)\n",
      "\n",
      "### Procedimiento básico:\n",
      "1. **Preparar la pasta de choclo**:\n",
      "   - Ralla los choclos o procesa los granos en una licuadora.\n",
      "   - Cocina la mezcla de choclo con la leche y la mantequilla a fuego medio, revolviendo constantemente hasta obtener una mezcla espesa. Añade sal y azúcar al gusto.\n",
      "\n",
      "2. **Preparar el relleno**:\n",
      "   - En una sartén, calienta el aceite y sofríe la cebolla y el ajo hasta que estén transparentes.\n",
      "   - Añade la carne molida y cocina hasta que esté dorada.\n",
      "   - Agrega el comino, el ají de color, sal y pimienta. Cocina unos minutos más para que se integren los sabores.\n",
      "\n",
      "3. **Montar el pastel**:\n",
      "   - En una fuente para horno, coloca una capa delgada de la mezcla de choclo en el fondo.\n",
      "   - Añade el relleno de carne, los huevos duros, el pollo desmenuzado, las aceitunas y las pasas.\n",
      "   - Cubre con el resto de la mezcla de choclo.\n",
      "   - Espolvorea azúcar sobre la superficie, si lo deseas.\n",
      "\n",
      "4. **Hornear**:\n",
      "   - Precalienta el horno a 180°C (350°F).\n",
      "   - Hornea el pastel durante unos 30-40 minutos, o hasta que la superficie esté dorada.\n",
      "\n",
      "¡Y listo! Tendrás un delicioso pastel de choclo para disfrutar. ¡Buen provecho!\n"
     ]
    }
   ],
   "source": [
    "print(chat(\"rodrigo\", \"quiero cocinar pastel de choclo, qué ingredientes necesito comprar?\"))"
   ]
  },
  {
   "cell_type": "code",
   "execution_count": 20,
   "id": "2fae91f1-e724-4029-9b7a-bd2da2444fa1",
   "metadata": {},
   "outputs": [
    {
     "name": "stdout",
     "output_type": "stream",
     "text": [
      "¡Claro! Hacer un tutti-fruti con plátanos, naranjas y kiwis es sencillo y delicioso. Aquí tienes una receta básica:\n",
      "\n",
      "### Ingredientes:\n",
      "- 2 plátanos\n",
      "- 2 naranjas\n",
      "- 3 kiwis\n",
      "- Jugo de una naranja (opcional)\n",
      "- Miel o azúcar al gusto (opcional)\n",
      "- Hojas de menta para decorar (opcional)\n",
      "\n",
      "### Instrucciones:\n",
      "\n",
      "1. **Preparar las frutas:**\n",
      "   - Pela los plátanos y córtalos en rodajas.\n",
      "   - Pela las naranjas, retira las semillas y corta los gajos en trozos más pequeños.\n",
      "   - Pela los kiwis y córtalos en rodajas o en trozos pequeños.\n",
      "\n",
      "2. **Mezclar las frutas:**\n",
      "   - Coloca todas las frutas cortadas en un tazón grande.\n",
      "   - Si deseas, puedes añadir el jugo de una naranja para darle un toque extra de sabor y evitar que los plátanos se oxiden rápidamente.\n",
      "\n",
      "3. **Endulzar (opcional):**\n",
      "   - Si prefieres un tutti-fruti más dulce, puedes añadir una cucharada de miel o un poco de azúcar. Mezcla bien para que el endulzante se distribuya uniformemente.\n",
      "\n",
      "4. **Refrigerar (opcional):**\n",
      "   - Para disfrutarlo bien frío, puedes refrigerar el tutti-fruti durante unos 30 minutos antes de servir.\n",
      "\n",
      "5. **Servir:**\n",
      "   - Sirve el tutti-fruti en tazones individuales.\n",
      "   - Decora con unas hojas de menta fresca si lo deseas.\n",
      "\n",
      "¡Y listo! Ya tienes un delicioso tutti-fruti fresco y saludable. ¡Disfrútalo!\n"
     ]
    }
   ],
   "source": [
    "print(chat(\"pedro\", \"tengo platanos, naranjas, y kiwis, como hago tutti-fruti?\"))"
   ]
  },
  {
   "cell_type": "code",
   "execution_count": 21,
   "id": "82b860d9-9094-46e7-bac6-4b9212742f1d",
   "metadata": {},
   "outputs": [
    {
     "name": "stdout",
     "output_type": "stream",
     "text": [
      "¡Claro que sí! Puedes hacer una versión vegetariana del pastel de choclo que sea igual de deliciosa. Aquí te dejo una receta adaptada sin carne:\n",
      "\n",
      "### Ingredientes para la \"pasta de choclo\":\n",
      "- 8-10 choclos (maíz) frescos\n",
      "- 1 taza de leche\n",
      "- 2 cucharadas de mantequilla (puedes usar margarina o aceite de coco para una versión vegana)\n",
      "- 1 cucharadita de sal\n",
      "- 1 cucharadita de azúcar (opcional)\n",
      "\n",
      "### Ingredientes para el relleno vegetariano:\n",
      "- 1 cebolla grande, picada en cuadros pequeños\n",
      "- 2 dientes de ajo, picados finamente\n",
      "- 1 zanahoria grande, rallada\n",
      "- 1 taza de champiñones, picados\n",
      "- 1 pimiento rojo, picado en cubos pequeños\n",
      "- 1 taza de espinacas frescas, picadas\n",
      "- 1 taza de choclo (maíz) desgranado\n",
      "- 1 cucharadita de comino\n",
      "- 1 cucharadita de ají de color (pimentón dulce)\n",
      "- Sal y pimienta al gusto\n",
      "- 2 cucharadas de aceite vegetal\n",
      "- 2 huevos duros, cortados en cuartos (opcional, omitir para una versión vegana)\n",
      "- 1/2 taza de aceitunas negras (sin carozo)\n",
      "- 1/2 taza de pasas (opcional)\n",
      "\n",
      "### Ingredientes adicionales:\n",
      "- Azúcar para espolvorear sobre el pastel antes de hornear (opcional, pero tradicional en algunas recetas)\n",
      "\n",
      "### Procedimiento básico:\n",
      "\n",
      "1. **Preparar la pasta de choclo**:\n",
      "   - Ralla los choclos o procesa los granos en una licuadora.\n",
      "   - Cocina la mezcla de choclo con la leche y la mantequilla a fuego medio, revolviendo constantemente hasta obtener una mezcla espesa. Añade sal y azúcar al gusto.\n",
      "\n",
      "2. **Preparar el relleno vegetariano**:\n",
      "   - En una sartén, calienta el aceite y sofríe la cebolla y el ajo hasta que estén transparentes.\n",
      "   - Añade la zanahoria rallada, los champiñones y el pimiento rojo. Cocina durante unos minutos hasta que las verduras estén tiernas.\n",
      "   - Agrega las espinacas y el choclo desgranado, cocina hasta que las espinacas se marchiten.\n",
      "   - Añade el comino, el ají de color, sal y pimienta. Cocina unos minutos más para que se integren los sabores.\n",
      "\n",
      "3. **Montar el pastel**:\n",
      "   - En una fuente para horno, coloca una capa delgada de la mezcla de choclo en el fondo.\n",
      "   - Añade el relleno de verduras, los huevos duros (si los usas), las aceitunas y las pasas.\n",
      "   - Cubre con el resto de la mezcla de choclo.\n",
      "   - Espolvorea azúcar sobre la superficie, si lo deseas.\n",
      "\n",
      "4. **Hornear**:\n",
      "   - Precalienta el horno a 180°C (350°F).\n",
      "   - Hornea el pastel durante unos 30-40 minutos, o hasta que la superficie esté dorada.\n",
      "\n",
      "¡Y ahí lo tienes! Un delicioso pastel de choclo vegetariano. ¡Espero que lo disfrutes!\n"
     ]
    }
   ],
   "source": [
    "print(chat(\"rodrigo\", \"no quedaba carne, lo puedo hacer veggie?\"))"
   ]
  },
  {
   "cell_type": "markdown",
   "id": "fb3d70b4-cd35-4728-b001-4564ae6ed0da",
   "metadata": {},
   "source": [
    "## Agentes\n",
    "Ya sabemos hacer chatbots! Ahora vamos un paso más allá: si queremos que el chatbot pueda **hacer** cosas, necesitamos reestructurar el flujo. Podemos usar _function calling_ para que el LLM pueda tomar acciones en respuesta al usuario, y luego re-evaluar en base al resultado de esas acciones."
   ]
  },
  {
   "cell_type": "markdown",
   "id": "c02bfc12-2640-40ab-ac25-a0d801fd6e8f",
   "metadata": {},
   "source": [
    "### Tools\n",
    "Empecemos por explorar las herramientas, y qué mejor para partir que usar alguna herramienta predefinida"
   ]
  },
  {
   "cell_type": "code",
   "execution_count": 22,
   "id": "ec3b4df0-1a94-420c-9be6-0be1589eb435",
   "metadata": {},
   "outputs": [
    {
     "name": "stdout",
     "output_type": "stream",
     "text": [
      "Page: OpenAI\n",
      "Summary: OpenAI is an American artificial intelligence (AI) research organization founded in December 2015 and headquartered in San Francisco, California. Its mission is to develop \"safe and beneficial\" artificial general intelligence, which it defines as \"highly autonomous systems that outperform humans at most economically valuable work\". As a leading organization in the ongoing AI boom, OpenAI is known for the GPT family of large language models, the DALL-E series of text-to-image models, and a text-to-video model named Sora. Its release of ChatGPT in November 2022 has been credited with catalyzing widespread interest in generative AI.\n",
      "The organization consists of the non-profit OpenAI, Inc., registered in Delaware, and its for-profit subsidiary OpenAI Global, LLC. Microsoft owns roughly 49% of OpenAI's equity, having invested US$13 billion. It also provides computing resources to OpenAI through its Microsoft Azure cloud platform.\n",
      "In 2023 and 2024, OpenAI faced multiple lawsuits for alleged copyright infringement against authors and media companies whose work was used to train some of OpenAI's products. In November 2023, OpenAI's board removed Sam Altman as CEO, citing a lack of confidence in him, and then reinstated him five days later after negotiations resulting in a reconstructed board. OpenAI's board has since added former US Treasury Secretary Lawrence Summers and former National Security Agency head Paul Nakasone.\n",
      "\n",
      "Page: OpenAI Codex\n",
      "Summary: OpenAI Codex is an artificial intelligence model developed by OpenAI. It parses natural language and generates code in response. It powers GitHub Copilot, a programming autocompletion tool for select IDEs, like Visual Studio Code and Neovim. Codex is a descendant of OpenAI's GPT-3 model, fine-tuned for use in programming applications.\n",
      "OpenAI released an API for Codex in closed beta. In March 2023, OpenAI shut down access to Codex. Due to public appeals from researchers, OpenAI reversed course. The Codex model can still be used by researchers of the OpenAI Research Access Program.\n",
      "\n",
      "\n",
      "\n",
      "Page: ChatGPT\n",
      "Summary: ChatGPT is a chatbot and virtual assistant developed by OpenAI and launched on November 30, 2022. Based on large language models (LLMs), it enables users to refine and steer a conversation towards a desired length, format, style, level of detail, and language. Successive user prompts and replies are considered at each conversation stage as context.\n",
      "ChatGPT is credited with starting the AI boom, which has led to ongoing rapid investment in and public attention to the field of artificial intelligence (AI). By January 2023, it had become what was then the fastest-growing consumer software application in history, gaining over 100 million users and contributing to the growth of OpenAI's current valuation of $86 billion. ChatGPT's release spurred the release of competing products, including Gemini, Claude, Llama, Ernie, and Grok. Microsoft launched Copilot, initially based on OpenAI's GPT-4. In June 2024, a partnership between Apple Inc. and OpenAI was announced in which ChatGPT is integrated into the Apple Intelligence feature of Apple operating systems. Some observers raised concern about the potential of ChatGPT and similar programs to displace or atrophy human intelligence, enable plagiarism, or fuel misinformation.\n",
      "ChatGPT is built on OpenAI's proprietary series of generative pre-trained transformer (GPT) models and is fine-tuned for conversational applications using a combination of supervised learning and reinforcement learning from human feedback. ChatGPT was released as a freely available research preview, but due to its popularity, OpenAI now operates the service on a freemium model. Users on its free tier can access GPT-4o. The ChatGPT subscriptions \"Plus\", \"Team\" and \"Enterprise\" provide additional features such as DALL-E 3 image generation and increased GPT-4o usage limit.\n"
     ]
    }
   ],
   "source": [
    "from langchain_community.utilities import WikipediaAPIWrapper\n",
    "from langchain_community.tools import WikipediaQueryRun\n",
    "\n",
    "wikipedia_api_wrapper = WikipediaAPIWrapper(top_k_results=3, doc_content_chars_max=5000)\n",
    "wikipedia_query = WikipediaQueryRun(api_wrapper=wikipedia_api_wrapper)\n",
    "\n",
    "print(wikipedia_query.invoke({\"query\":\"openai\"}))"
   ]
  },
  {
   "cell_type": "markdown",
   "id": "a3b93458-cf76-4a78-8105-e87c70f4ed1e",
   "metadata": {},
   "source": [
    "Esencialmente es una función con algunos metadatos para que el LLM la _entienda_"
   ]
  },
  {
   "cell_type": "code",
   "execution_count": 23,
   "id": "37f20d41-5f43-4139-bf42-fd4cd8f993f7",
   "metadata": {},
   "outputs": [
    {
     "data": {
      "text/plain": [
       "('wikipedia',\n",
       " 'A wrapper around Wikipedia. Useful for when you need to answer general questions about people, places, companies, facts, historical events, or other subjects. Input should be a search query.',\n",
       " {'title': 'WikipediaQueryInput',\n",
       "  'description': 'Input for the WikipediaQuery tool.',\n",
       "  'type': 'object',\n",
       "  'properties': {'query': {'title': 'Query',\n",
       "    'description': 'query to look up on wikipedia',\n",
       "    'type': 'string'}},\n",
       "  'required': ['query']})"
      ]
     },
     "execution_count": 23,
     "metadata": {},
     "output_type": "execute_result"
    }
   ],
   "source": [
    "wikipedia_query.name, wikipedia_query.description, wikipedia_query.args_schema.schema()"
   ]
  },
  {
   "cell_type": "markdown",
   "id": "473e7a32-f89c-4058-aba1-59c2845e5f80",
   "metadata": {},
   "source": [
    "Podemos hacer nuestras propias herramientas con decoradores"
   ]
  },
  {
   "cell_type": "code",
   "execution_count": 24,
   "id": "783a592b-0898-4611-9050-41d1bed904cd",
   "metadata": {},
   "outputs": [
    {
     "data": {
      "text/plain": [
       "('weather',\n",
       " 'Gets the weather forecast for a city.',\n",
       " {'title': 'weatherSchema',\n",
       "  'description': 'Gets the weather forecast for a city.',\n",
       "  'type': 'object',\n",
       "  'properties': {'city_name': {'title': 'City Name', 'type': 'string'}},\n",
       "  'required': ['city_name']})"
      ]
     },
     "execution_count": 24,
     "metadata": {},
     "output_type": "execute_result"
    }
   ],
   "source": [
    "from langchain_core.tools import tool\n",
    "\n",
    "@tool\n",
    "def weather(city_name: str) -> str:\n",
    "    \"\"\"Gets the weather forecast for a city.\"\"\"\n",
    "    match city_name.lower():\n",
    "        case 'santiago':\n",
    "            return 'cold'\n",
    "        case 'valparaiso':\n",
    "            return 'windy'\n",
    "        case 'concepcion':\n",
    "            return 'rainy'\n",
    "        case _:\n",
    "            return 'fair'\n",
    "\n",
    "weather.name, weather.description, weather.args_schema.schema()"
   ]
  },
  {
   "cell_type": "markdown",
   "id": "0331c696-d026-496a-aa41-11a47967c5cf",
   "metadata": {},
   "source": [
    "O podemos hacer tools con clases derivadas de `BaseTool` \"a mano\""
   ]
  },
  {
   "cell_type": "code",
   "execution_count": 25,
   "id": "d5f227c9-b7e2-4ad9-ad1c-29684b55ee9f",
   "metadata": {},
   "outputs": [
    {
     "data": {
      "text/plain": [
       "('compound_interest_calculator',\n",
       " 'Calculates the compound interest of an initial amount over a number of periods at a specified rate',\n",
       " {'title': 'CompoundInterestCalculatorArgs',\n",
       "  'type': 'object',\n",
       "  'properties': {'n_periods': {'title': 'N Periods',\n",
       "    'description': 'Number of periods to calculate for',\n",
       "    'type': 'integer'},\n",
       "   'rate': {'title': 'Rate',\n",
       "    'description': 'Interest rate per period, in percentage points',\n",
       "    'type': 'number'},\n",
       "   'initial_amount': {'title': 'Initial Amount',\n",
       "    'description': 'Amount at the beginning of the first period',\n",
       "    'type': 'number'}},\n",
       "  'required': ['n_periods', 'rate', 'initial_amount']})"
      ]
     },
     "execution_count": 25,
     "metadata": {},
     "output_type": "execute_result"
    }
   ],
   "source": [
    "from typing import Type\n",
    "from langchain_core.tools import BaseTool\n",
    "from langchain_core.pydantic_v1 import BaseModel, Field\n",
    "\n",
    "class CompoundInterestCalculatorArgs(BaseModel):\n",
    "    n_periods: int = Field(description=\"Number of periods to calculate for\")\n",
    "    rate: float = Field(description=\"Interest rate per period, in percentage points\")\n",
    "    initial_amount: float = Field(description=\"Amount at the beginning of the first period\")\n",
    "\n",
    "class CompoundInterestCalculator(BaseTool):\n",
    "    args_schema: Type[BaseModel] = CompoundInterestCalculatorArgs\n",
    "    name = 'compound_interest_calculator'\n",
    "    description = 'Calculates the compound interest of an initial amount over a number of periods at a specified rate'\n",
    "\n",
    "    def _run(self, n_periods: int, rate: float, initial_amount: float) -> str:\n",
    "        return str(initial_amount*(1+rate/100)**n_periods)\n",
    "\n",
    "compound_interest_calc = CompoundInterestCalculator()\n",
    "\n",
    "compound_interest_calc.name, compound_interest_calc.description, compound_interest_calc.args_schema.schema()"
   ]
  },
  {
   "cell_type": "markdown",
   "id": "97a781de-b4e5-4f36-bb37-48d1da0352e3",
   "metadata": {},
   "source": [
    "Bien, sabemos hacer herramientas, pero queremos que un LLM las llame... Para eso basta con presentárselas, y el modelo puede _decidir_ usarlas, i.e. producir un output que pide ejecutar una función/tool"
   ]
  },
  {
   "cell_type": "code",
   "execution_count": 26,
   "id": "e9e133cf-0a55-4f7b-ac39-18193b4e044f",
   "metadata": {},
   "outputs": [
    {
     "data": {
      "text/plain": [
       "AIMessage(content='', additional_kwargs={'tool_calls': [{'id': 'call_3gDJQ5NXlQuCv7wdGVXdTHRH', 'function': {'arguments': '{\"city_name\":\"Santiago\"}', 'name': 'weather'}, 'type': 'function'}]}, response_metadata={'token_usage': {'completion_tokens': 15, 'prompt_tokens': 185, 'total_tokens': 200}, 'model_name': 'gpt-4o-2024-05-13', 'system_fingerprint': 'fp_4e2b2da518', 'finish_reason': 'tool_calls', 'logprobs': None}, id='run-7f966176-2571-402b-b7eb-068639dbcb17-0', tool_calls=[{'name': 'weather', 'args': {'city_name': 'Santiago'}, 'id': 'call_3gDJQ5NXlQuCv7wdGVXdTHRH', 'type': 'tool_call'}], usage_metadata={'input_tokens': 185, 'output_tokens': 15, 'total_tokens': 200})"
      ]
     },
     "execution_count": 26,
     "metadata": {},
     "output_type": "execute_result"
    }
   ],
   "source": [
    "tools = [wikipedia_query, weather, compound_interest_calc]\n",
    "model_with_tools = model.bind_tools(tools)\n",
    "\n",
    "messages = [\n",
    "    SystemMessage(\"You're a helpful assistant\"),\n",
    "    HumanMessage(\"What's the weather in Santiago?\"),\n",
    "]\n",
    "\n",
    "model_output = model_with_tools.invoke(messages)\n",
    "\n",
    "model_output"
   ]
  },
  {
   "cell_type": "code",
   "execution_count": 27,
   "id": "c8fa14f2-dc46-4a01-95d6-9db6644cce6f",
   "metadata": {},
   "outputs": [
    {
     "data": {
      "text/plain": [
       "[{'name': 'weather',\n",
       "  'args': {'city_name': 'Santiago'},\n",
       "  'id': 'call_3gDJQ5NXlQuCv7wdGVXdTHRH',\n",
       "  'type': 'tool_call'}]"
      ]
     },
     "execution_count": 27,
     "metadata": {},
     "output_type": "execute_result"
    }
   ],
   "source": [
    "model_output.tool_calls"
   ]
  },
  {
   "cell_type": "markdown",
   "id": "f00bd873-3438-4607-bfd5-f1fc50cc163b",
   "metadata": {},
   "source": [
    "Aquí la respuesta del modelo dice \"necesito llamar a `weather` para responder\"... llamémoslo y le damos el resultado al model de nuevo"
   ]
  },
  {
   "cell_type": "code",
   "execution_count": 28,
   "id": "1fe27563-3530-4750-8487-16cece2a1387",
   "metadata": {},
   "outputs": [
    {
     "data": {
      "text/plain": [
       "ToolMessage(content='cold', name='weather', tool_call_id='call_3gDJQ5NXlQuCv7wdGVXdTHRH')"
      ]
     },
     "execution_count": 28,
     "metadata": {},
     "output_type": "execute_result"
    }
   ],
   "source": [
    "tool_message = weather.invoke(model_output.tool_calls[0])\n",
    "tool_message"
   ]
  },
  {
   "cell_type": "code",
   "execution_count": 29,
   "id": "e868b5d5-5a16-4be1-86a7-14de9a2a4819",
   "metadata": {},
   "outputs": [
    {
     "data": {
      "text/plain": [
       "'The current weather in Santiago is cold.'"
      ]
     },
     "execution_count": 29,
     "metadata": {},
     "output_type": "execute_result"
    }
   ],
   "source": [
    "messages.extend([model_output, tool_message])\n",
    "\n",
    "final_answer = model_with_tools.invoke(messages)\n",
    "final_answer.content"
   ]
  },
  {
   "cell_type": "markdown",
   "id": "413bd89a-27cf-485e-abbc-92e3e5347749",
   "metadata": {},
   "source": [
    "Perfecto, ya sabemos manejar llamadas a LLMs con herramientas. Pero si queremos encapsularlo todo en algo más manejable? Aquí es cuando necesitamos un ✨Agente✨"
   ]
  },
  {
   "cell_type": "markdown",
   "id": "3252bed5-5c2b-4b4d-9f0c-c4ee97ca5fbf",
   "metadata": {},
   "source": [
    "### Agente\n",
    "Un agente no es más que una encapsulación de un LLM, tools, y una forma de ejecutar todo alimentándole el resultado de vuelta al LLM.\n",
    "\n",
    "Hay muchas estructuras de agentes, una muy simple y de los más comunes es ReAct (Reasoning and Action).\n",
    "\n",
    "Para implementar esos flujos con Langchain, se pueden hacer con combinaciones de cadenas y código (_a la antigua_), o con LangGraph, donde uno construye el flujo en forma de grafo que luego se puede ejecutar como parte de una cadena normal. LangGraph ya tiene una implementación de agente ReAct, estructuras de agentes más complejas quedan como ejercicio para el lector."
   ]
  },
  {
   "cell_type": "code",
   "execution_count": 30,
   "id": "c122e9c4-a64a-4626-a7da-9b9035f5f239",
   "metadata": {},
   "outputs": [],
   "source": [
    "from langgraph.prebuilt import create_react_agent\n",
    "\n",
    "agent = create_react_agent(model, tools)\n",
    "\n",
    "result = agent.invoke({\"messages\": [\n",
    "    HumanMessage(\"How much money would I have if I deposit 100k for 5 years with a 5% APR, using compound interest\"),\n",
    "]})"
   ]
  },
  {
   "cell_type": "code",
   "execution_count": 31,
   "id": "48a5c74b-d6ed-4da9-88a8-98b446b5ed3a",
   "metadata": {},
   "outputs": [
    {
     "data": {
      "text/plain": [
       "{'messages': [HumanMessage(content='How much money would I have if I deposit 100k for 5 years with a 5% APR, using compound interest', id='71220118-8b3b-449e-820b-e813cba60db3'),\n",
       "  AIMessage(content='', additional_kwargs={'tool_calls': [{'id': 'call_Tj20lyakQuUPaKiSrvyyW2xM', 'function': {'arguments': '{\"n_periods\":5,\"rate\":5,\"initial_amount\":100000}', 'name': 'compound_interest_calculator'}, 'type': 'function'}]}, response_metadata={'token_usage': {'completion_tokens': 29, 'prompt_tokens': 200, 'total_tokens': 229}, 'model_name': 'gpt-4o-2024-05-13', 'system_fingerprint': 'fp_4e2b2da518', 'finish_reason': 'tool_calls', 'logprobs': None}, id='run-8785f754-18fa-42bc-8dd4-c781120a9d5e-0', tool_calls=[{'name': 'compound_interest_calculator', 'args': {'n_periods': 5, 'rate': 5, 'initial_amount': 100000}, 'id': 'call_Tj20lyakQuUPaKiSrvyyW2xM', 'type': 'tool_call'}], usage_metadata={'input_tokens': 200, 'output_tokens': 29, 'total_tokens': 229}),\n",
       "  ToolMessage(content='127628.15625000003', name='compound_interest_calculator', id='a503dc9b-22a6-4d52-83c2-32b3af8ef9cf', tool_call_id='call_Tj20lyakQuUPaKiSrvyyW2xM'),\n",
       "  AIMessage(content='If you deposit $100,000 for 5 years with a 5% annual percentage rate (APR) using compound interest, you would have approximately $127,628.16 at the end of the period.', response_metadata={'token_usage': {'completion_tokens': 44, 'prompt_tokens': 246, 'total_tokens': 290}, 'model_name': 'gpt-4o-2024-05-13', 'system_fingerprint': 'fp_4e2b2da518', 'finish_reason': 'stop', 'logprobs': None}, id='run-3fa2619d-ca32-4dbb-a33c-b47dfd74c273-0', usage_metadata={'input_tokens': 246, 'output_tokens': 44, 'total_tokens': 290})]}"
      ]
     },
     "execution_count": 31,
     "metadata": {},
     "output_type": "execute_result"
    }
   ],
   "source": [
    "result"
   ]
  },
  {
   "cell_type": "code",
   "execution_count": 32,
   "id": "024cac47-fae3-47fd-94c8-930b1a933951",
   "metadata": {},
   "outputs": [],
   "source": [
    "def print_messages(result):\n",
    "    for message in result['messages']:\n",
    "        print(\"=\" * 10, message.type, \"=\" * 10)\n",
    "        print(message.content or message.tool_calls)"
   ]
  },
  {
   "cell_type": "code",
   "execution_count": 33,
   "id": "93943920-e084-4b8b-a592-2cc09053dd62",
   "metadata": {},
   "outputs": [
    {
     "name": "stdout",
     "output_type": "stream",
     "text": [
      "========== human ==========\n",
      "How much money would I have if I deposit 100k for 5 years with a 5% APR, using compound interest\n",
      "========== ai ==========\n",
      "[{'name': 'compound_interest_calculator', 'args': {'n_periods': 5, 'rate': 5, 'initial_amount': 100000}, 'id': 'call_Tj20lyakQuUPaKiSrvyyW2xM', 'type': 'tool_call'}]\n",
      "========== tool ==========\n",
      "127628.15625000003\n",
      "========== ai ==========\n",
      "If you deposit $100,000 for 5 years with a 5% annual percentage rate (APR) using compound interest, you would have approximately $127,628.16 at the end of the period.\n"
     ]
    }
   ],
   "source": [
    "print_messages(result)"
   ]
  },
  {
   "cell_type": "markdown",
   "id": "9e84887a-003e-4e70-aceb-38e9422a6d97",
   "metadata": {},
   "source": [
    "Ahora nos falta la memoria! Lamentablemente con LangGraph no nos sirve exactamente lo que vimos antes, pero también soporta _checkpointing_ (guardar el estado del grafo, las entradas, los mensajes intermedios, los resultados, i.e. memoria) y también trae algunas implementaciones predefinidas."
   ]
  },
  {
   "cell_type": "code",
   "execution_count": 34,
   "id": "e4ae87ff-42a1-416a-8b67-608462a6593a",
   "metadata": {},
   "outputs": [],
   "source": [
    "from langgraph.checkpoint import MemorySaver\n",
    "\n",
    "memory = MemorySaver() # saves checkpoints in-memory... SQLite implementation available too!\n",
    "agent = create_react_agent(model, tools, checkpointer=memory)\n",
    "\n",
    "# the checkpointer takes a RunnableConfig for \"thread_id\" to support multiple threads\n",
    "config = {\"configurable\":{\"thread_id\": \"rodrigo\"}}\n",
    "\n",
    "result = agent.invoke({\"messages\": [\n",
    "    HumanMessage(\"quiénes son los candidatos para la elección presidencial de USA 2024?\"),\n",
    "]}, config=config)"
   ]
  },
  {
   "cell_type": "code",
   "execution_count": 35,
   "id": "dc70f80a-d0ca-4dfe-ba50-2821d4910218",
   "metadata": {},
   "outputs": [
    {
     "name": "stdout",
     "output_type": "stream",
     "text": [
      "========== human ==========\n",
      "quiénes son los candidatos para la elección presidencial de USA 2024?\n",
      "========== ai ==========\n",
      "[{'name': 'wikipedia', 'args': {'query': '2024 United States presidential election candidates'}, 'id': 'call_AqoY7Iz423V3ImwxENZsobGJ', 'type': 'tool_call'}]\n",
      "========== tool ==========\n",
      "Page: 2024 United States presidential election\n",
      "Summary: The 2024 United States presidential election will be the 60th quadrennial presidential election, set to be held on Tuesday, November 5, 2024. Voters in each state and the District of Columbia will choose a slate of electors to the U.S. Electoral College, who will then elect a president and vice president for a term of four years.\n",
      "Incumbent president Joe Biden, a member of the Democratic Party, initially ran for re-election and became the party's presumptive nominee on March 12. However, following a poor performance in the June 2024 presidential debate and increasing age and health concerns, he withdrew on July 21 and endorsed Vice President Kamala Harris, who launched her presidential campaign the same day. She secured enough delegate endorsements to become the new presumptive nominee a day later. Biden's withdrawal makes him the first eligible incumbent president since Lyndon B. Johnson in 1968 not to run for re-election, and the first ever to withdraw after securing enough delegates to win the nomination. Harris will presumably be the first nominee who did not participate in the primaries as a presidential candidate since Hubert Humphrey, also in 1968.\n",
      "Biden's predecessor, Donald Trump, a member of the Republican Party, is running for re-election for a second, non-consecutive term, after losing to Biden in the 2020 presidential election. He became the party's presumptive nominee on March 12. In the run-up to the election, Trump was found liable in civil proceedings for both sexual abuse and defamation in 2023 and defamation in 2024, while also being criminally convicted of 34 felonies related to falsifying business records, becoming the first president to be found guilty of a crime. On July 13, he was shot in an assassination attempt at a campaign rally in Pennsylvania. Trump was nominated during the 2024 Republican National Convention on July 15 along with his running mate, Ohio senator JD Vance. Trump has continued spreading his \"big lie\" of a stolen 2020 election and has claimed without evidence that the 2024 election would be rigged against him. Trump and some Republicans have stated they will not accept the results of the 2024 election if they believe they are \"unfair.\" The claims have been made as part of a larger election denial movement. Trump's campaign has been criticized by legal experts, historians, and political scientists for violent and dehumanizing rhetoric against those he sees as political enemies as well as increasingly authoritarian statements.\n",
      "\n",
      "Key swing states include Arizona, Georgia, Michigan, Nevada, Pennsylvania and Wisconsin. The presidential election will take place at the same time as elections for the U.S. Senate, House, gubernatorial, and state legislatures. Robert F. Kennedy Jr. emerged as the highest-polling third-party presidential candidate since Ross Perot in the 1992 election, running as an independent. Leading campaign issues are expected to be abortion, border security and immigration, climate change, democracy, the economy, education, foreign policy, healthcare, and LGBT rights. The winners of this election are scheduled to be inaugurated on January 20, 2025, as the 47th president and 50th vice president of the United States, respectively.\n",
      "\n",
      "Page: Third-party and independent candidates for the 2024 United States presidential election\n",
      "Summary: This article lists third party and independent candidates, also jointly known as minor candidates, associated with the 2024 United States presidential election.\n",
      "Polling as of October 2023 for third-party candidates in this election cycle has suggested the highest level of support for such a candidate since Ross Perot in 1992 and 1996. Polls were especially high for Robert F. Kennedy Jr., as of May 2024, who withdrew his candidacy in the Democratic Party primaries in October 2023 to run as an independent.\n",
      "\n",
      "Page: 2024 Democratic Party presidential candidates\n",
      "Summary: The following is a list of candidates associated with the 2024 Democratic Party presidential primaries for the 2024 United States presidential election. As of March 2024, more than 190 candidates had filed with the Federal Election Commission (FEC) to run for the Democratic nomination in 2024. In previous cycles, the majority of these candidates did not appear on any ballots, raise money, or otherwise attempt to formally run a campaign.\n",
      "On July 21, 2024, Joe Biden, the incumbent president and presumptive nominee, withdrew as a candidate. The same day, Vice President Kamala Harris announced her candidacy, aiming to be elected by the Democratic National Convention.\n",
      "On July 22, 2024, in a survey by the Associated Press, Harris received enough pledges from Democratic delegates to become the new presumptive nominee of the party.\n",
      "========== ai ==========\n",
      "Los candidatos principales para la elección presidencial de Estados Unidos en 2024 son:\n",
      "\n",
      "### Partido Demócrata:\n",
      "- **Kamala Harris**: Actual Vicepresidenta de los Estados Unidos, quien se convirtió en la presunta nominada del Partido Demócrata después de que el presidente Joe Biden se retirara de la contienda citando preocupaciones de salud y edad.\n",
      "\n",
      "### Partido Republicano:\n",
      "- **Donald Trump**: Expresidente de los Estados Unidos, quien busca un segundo mandato no consecutivo. Fue nominado oficialmente durante la Convención Nacional Republicana de 2024 junto con su compañero de fórmula, el senador de Ohio JD Vance.\n",
      "\n",
      "### Candidatos Independientes y de Terceros:\n",
      "- **Robert F. Kennedy Jr.**: Anteriormente candidato en las primarias del Partido Demócrata, ahora se presenta como independiente. Ha emergido como el candidato de tercer partido con mayor apoyo en las encuestas desde Ross Perot en 1992.\n",
      "\n",
      "### Temas Clave de la Campaña:\n",
      "- Aborto\n",
      "- Seguridad fronteriza e inmigración\n",
      "- Cambio climático\n",
      "- Democracia\n",
      "- Economía\n",
      "- Educación\n",
      "- Política exterior\n",
      "- Atención médica\n",
      "- Derechos LGBT\n",
      "\n",
      "La elección presidencial de 2024 se llevará a cabo el 5 de noviembre de 2024 y coincidirá con elecciones para el Senado de los Estados Unidos, la Cámara de Representantes, gubernaturas y legislaturas estatales. Los ganadores serán inaugurados el 20 de enero de 2025.\n"
     ]
    }
   ],
   "source": [
    "print_messages(result)"
   ]
  },
  {
   "cell_type": "code",
   "execution_count": 36,
   "id": "3978294f-d1d5-4af0-8a9f-fac952f66769",
   "metadata": {},
   "outputs": [
    {
     "name": "stdout",
     "output_type": "stream",
     "text": [
      "========== human ==========\n",
      "quiénes son los candidatos para la elección presidencial de USA 2024?\n",
      "========== ai ==========\n",
      "[{'name': 'wikipedia', 'args': {'query': '2024 United States presidential election candidates'}, 'id': 'call_AqoY7Iz423V3ImwxENZsobGJ', 'type': 'tool_call'}]\n",
      "========== tool ==========\n",
      "Page: 2024 United States presidential election\n",
      "Summary: The 2024 United States presidential election will be the 60th quadrennial presidential election, set to be held on Tuesday, November 5, 2024. Voters in each state and the District of Columbia will choose a slate of electors to the U.S. Electoral College, who will then elect a president and vice president for a term of four years.\n",
      "Incumbent president Joe Biden, a member of the Democratic Party, initially ran for re-election and became the party's presumptive nominee on March 12. However, following a poor performance in the June 2024 presidential debate and increasing age and health concerns, he withdrew on July 21 and endorsed Vice President Kamala Harris, who launched her presidential campaign the same day. She secured enough delegate endorsements to become the new presumptive nominee a day later. Biden's withdrawal makes him the first eligible incumbent president since Lyndon B. Johnson in 1968 not to run for re-election, and the first ever to withdraw after securing enough delegates to win the nomination. Harris will presumably be the first nominee who did not participate in the primaries as a presidential candidate since Hubert Humphrey, also in 1968.\n",
      "Biden's predecessor, Donald Trump, a member of the Republican Party, is running for re-election for a second, non-consecutive term, after losing to Biden in the 2020 presidential election. He became the party's presumptive nominee on March 12. In the run-up to the election, Trump was found liable in civil proceedings for both sexual abuse and defamation in 2023 and defamation in 2024, while also being criminally convicted of 34 felonies related to falsifying business records, becoming the first president to be found guilty of a crime. On July 13, he was shot in an assassination attempt at a campaign rally in Pennsylvania. Trump was nominated during the 2024 Republican National Convention on July 15 along with his running mate, Ohio senator JD Vance. Trump has continued spreading his \"big lie\" of a stolen 2020 election and has claimed without evidence that the 2024 election would be rigged against him. Trump and some Republicans have stated they will not accept the results of the 2024 election if they believe they are \"unfair.\" The claims have been made as part of a larger election denial movement. Trump's campaign has been criticized by legal experts, historians, and political scientists for violent and dehumanizing rhetoric against those he sees as political enemies as well as increasingly authoritarian statements.\n",
      "\n",
      "Key swing states include Arizona, Georgia, Michigan, Nevada, Pennsylvania and Wisconsin. The presidential election will take place at the same time as elections for the U.S. Senate, House, gubernatorial, and state legislatures. Robert F. Kennedy Jr. emerged as the highest-polling third-party presidential candidate since Ross Perot in the 1992 election, running as an independent. Leading campaign issues are expected to be abortion, border security and immigration, climate change, democracy, the economy, education, foreign policy, healthcare, and LGBT rights. The winners of this election are scheduled to be inaugurated on January 20, 2025, as the 47th president and 50th vice president of the United States, respectively.\n",
      "\n",
      "Page: Third-party and independent candidates for the 2024 United States presidential election\n",
      "Summary: This article lists third party and independent candidates, also jointly known as minor candidates, associated with the 2024 United States presidential election.\n",
      "Polling as of October 2023 for third-party candidates in this election cycle has suggested the highest level of support for such a candidate since Ross Perot in 1992 and 1996. Polls were especially high for Robert F. Kennedy Jr., as of May 2024, who withdrew his candidacy in the Democratic Party primaries in October 2023 to run as an independent.\n",
      "\n",
      "Page: 2024 Democratic Party presidential candidates\n",
      "Summary: The following is a list of candidates associated with the 2024 Democratic Party presidential primaries for the 2024 United States presidential election. As of March 2024, more than 190 candidates had filed with the Federal Election Commission (FEC) to run for the Democratic nomination in 2024. In previous cycles, the majority of these candidates did not appear on any ballots, raise money, or otherwise attempt to formally run a campaign.\n",
      "On July 21, 2024, Joe Biden, the incumbent president and presumptive nominee, withdrew as a candidate. The same day, Vice President Kamala Harris announced her candidacy, aiming to be elected by the Democratic National Convention.\n",
      "On July 22, 2024, in a survey by the Associated Press, Harris received enough pledges from Democratic delegates to become the new presumptive nominee of the party.\n",
      "========== ai ==========\n",
      "Los candidatos principales para la elección presidencial de Estados Unidos en 2024 son:\n",
      "\n",
      "### Partido Demócrata:\n",
      "- **Kamala Harris**: Actual Vicepresidenta de los Estados Unidos, quien se convirtió en la presunta nominada del Partido Demócrata después de que el presidente Joe Biden se retirara de la contienda citando preocupaciones de salud y edad.\n",
      "\n",
      "### Partido Republicano:\n",
      "- **Donald Trump**: Expresidente de los Estados Unidos, quien busca un segundo mandato no consecutivo. Fue nominado oficialmente durante la Convención Nacional Republicana de 2024 junto con su compañero de fórmula, el senador de Ohio JD Vance.\n",
      "\n",
      "### Candidatos Independientes y de Terceros:\n",
      "- **Robert F. Kennedy Jr.**: Anteriormente candidato en las primarias del Partido Demócrata, ahora se presenta como independiente. Ha emergido como el candidato de tercer partido con mayor apoyo en las encuestas desde Ross Perot en 1992.\n",
      "\n",
      "### Temas Clave de la Campaña:\n",
      "- Aborto\n",
      "- Seguridad fronteriza e inmigración\n",
      "- Cambio climático\n",
      "- Democracia\n",
      "- Economía\n",
      "- Educación\n",
      "- Política exterior\n",
      "- Atención médica\n",
      "- Derechos LGBT\n",
      "\n",
      "La elección presidencial de 2024 se llevará a cabo el 5 de noviembre de 2024 y coincidirá con elecciones para el Senado de los Estados Unidos, la Cámara de Representantes, gubernaturas y legislaturas estatales. Los ganadores serán inaugurados el 20 de enero de 2025.\n",
      "========== human ==========\n",
      "y como está el tiempo en Washington DC?\n",
      "========== ai ==========\n",
      "[{'name': 'weather', 'args': {'city_name': 'Washington, D.C.'}, 'id': 'call_uXpFjf4ZA0BXDh9d6zQZQMjW', 'type': 'tool_call'}]\n",
      "========== tool ==========\n",
      "fair\n",
      "========== ai ==========\n",
      "El tiempo en Washington, D.C. está despejado en este momento.\n"
     ]
    }
   ],
   "source": [
    "result = agent.invoke({\"messages\": [HumanMessage('y como está el tiempo en Washington DC?')]}, config)\n",
    "\n",
    "print_messages(result)"
   ]
  },
  {
   "cell_type": "markdown",
   "id": "7a1985ab-f6d5-43b8-8c7d-a9679c46a24b",
   "metadata": {},
   "source": [
    "Sólo nos falta ver cómo darle un _system prompt_ al agente. En jerga de LangGraph, tenemos que manipular el estado inicial del grafo para que parta con un `SystemMessage`, pero basta con pasárselo a `create_react_agent` y ya."
   ]
  },
  {
   "cell_type": "code",
   "execution_count": 37,
   "id": "76bf0250-dd90-4bff-a683-211cfb50903e",
   "metadata": {},
   "outputs": [
    {
     "name": "stdout",
     "output_type": "stream",
     "text": [
      "========== human ==========\n",
      "cuánta plata tengo después de 10 años si deposito 1m con 5% de interés anual?\n",
      "========== ai ==========\n",
      "[{'name': 'compound_interest_calculator', 'args': {'n_periods': 10, 'rate': 5, 'initial_amount': 1000000}, 'id': 'call_PNybPPtZLEBh9obp0SVKZKWJ', 'type': 'tool_call'}]\n",
      "========== tool ==========\n",
      "1628894.626777442\n",
      "========== ai ==========\n",
      "Post decem annos, si depositum unius miliones cum 5% annuo interesse habes, habebis $1,628,894.63.\n"
     ]
    }
   ],
   "source": [
    "memory = MemorySaver() # let's start fresh with an empty memory...\n",
    "\n",
    "system_prompt = \"You're a helpful agent. You always answer in Latin, regardless of the language used by the user.\"\n",
    "\n",
    "agent = create_react_agent(model, tools, checkpointer=memory, state_modifier=system_prompt)\n",
    "\n",
    "# the checkpointer takes a RunnableConfig param of \"thread_id\" to support multiple threads\n",
    "config = {\"configurable\":{\"thread_id\": \"rodrigo\"}}\n",
    "\n",
    "result = agent.invoke({\"messages\": [\n",
    "    HumanMessage(\"cuánta plata tengo después de 10 años si deposito 1m con 5% de interés anual?\"),\n",
    "]}, config=config)\n",
    "\n",
    "print_messages(result)"
   ]
  },
  {
   "cell_type": "markdown",
   "id": "92ee9b82-63f5-48e3-b262-b20843e15b69",
   "metadata": {},
   "source": [
    "El modelo de LangGraph es muy flexible y permite insertar lo que uno necesite en cualquier parte del flujo, como filtrar la historia, ir resumiéndola (para no pasarse de _tokens_ o reducir posibilidades de confusión), etc. Una vez más, ejercicio para el lector.\n",
    "\n",
    "Con esto ya cerramos el capítulo de agentes. Hay suficiente material para construir experiencias muy poderosas y productos bastante atractivos."
   ]
  },
  {
   "cell_type": "markdown",
   "id": "26d8c671-4a4a-46d6-bd76-3cb1e4ae030a",
   "metadata": {},
   "source": [
    "## Interfaces de Prototipo\n",
    "Hasta ahora hemos interactuado con nuestro modelo/chatbot/agente con código. Podríamos armar una aplicación web, o conectarlo con la API de Slack/WhatsApp/Telegram/Discord/... pero queremos una forma de probarlo rápido! Una opción fácil y potente es Gradio. (Hay otras similares como Streamlit por si quieren explorar)\n",
    "\n",
    "Ejemplo basado en [esta guía de Gradio](https://www.gradio.app/guides/creating-a-custom-chatbot-with-blocks)"
   ]
  },
  {
   "cell_type": "code",
   "execution_count": 38,
   "id": "c9dbd637-eaa8-4bf2-ad63-268bd058e720",
   "metadata": {},
   "outputs": [
    {
     "name": "stdout",
     "output_type": "stream",
     "text": [
      "Running on local URL:  http://127.0.0.1:7860\n",
      "\n",
      "To create a public link, set `share=True` in `launch()`.\n"
     ]
    },
    {
     "data": {
      "text/html": [
       "<div><iframe src=\"http://127.0.0.1:7860/\" width=\"100%\" height=\"500\" allow=\"autoplay; camera; microphone; clipboard-read; clipboard-write;\" frameborder=\"0\" allowfullscreen></iframe></div>"
      ],
      "text/plain": [
       "<IPython.core.display.HTML object>"
      ]
     },
     "metadata": {},
     "output_type": "display_data"
    },
    {
     "data": {
      "text/plain": []
     },
     "execution_count": 38,
     "metadata": {},
     "output_type": "execute_result"
    }
   ],
   "source": [
    "import gradio as gr\n",
    "\n",
    "with gr.Blocks() as app:\n",
    "    # UI components\n",
    "    chatbot = gr.Chatbot()\n",
    "    msg = gr.Textbox()\n",
    "\n",
    "    # Event handler, inputs: user message, and current history\n",
    "    def display_user_message(message, history):\n",
    "        # let's just add the user message to the \"chatbot\" history for now\n",
    "        new_history = history + [(message, None)]\n",
    "        # outputs: user message (so we can clear the input textbox) and the new message history\n",
    "        return \"\", new_history        \n",
    "\n",
    "    # Another event handler, inputs: current history\n",
    "    def process_message(history):\n",
    "        # let's actually call our last agent\n",
    "        config = {\"configurable\":{\"thread_id\": \"gradio\"}}\n",
    "        message = history[-1][0]\n",
    "        result = agent.invoke({\"messages\":[HumanMessage(message)]}, config=config)\n",
    "        agent_response = result[\"messages\"][-1].content\n",
    "        # now let's add it to the \"chatbot\" history\n",
    "        history[-1][1] = agent_response\n",
    "        return history\n",
    "    \n",
    "    # When submitting (enter), run `process_message`\n",
    "    # with msg and chatbot as its inputs,\n",
    "    # and take the outputs and put them into msg and chatbot\n",
    "    msg.submit(\n",
    "        fn=display_user_message,\n",
    "        inputs=[msg, chatbot],\n",
    "        outputs=[msg, chatbot],\n",
    "        queue=False, # We don't want to queue multiple events\n",
    "    ).then( # chain the second event handler\n",
    "        fn=process_message,\n",
    "        inputs=chatbot,\n",
    "        outputs=chatbot,\n",
    "        queue=False\n",
    "    )\n",
    "\n",
    "app.launch()"
   ]
  }
 ],
 "metadata": {
  "kernelspec": {
   "display_name": "Python 3 (ipykernel)",
   "language": "python",
   "name": "python3"
  },
  "language_info": {
   "codemirror_mode": {
    "name": "ipython",
    "version": 3
   },
   "file_extension": ".py",
   "mimetype": "text/x-python",
   "name": "python",
   "nbconvert_exporter": "python",
   "pygments_lexer": "ipython3",
   "version": "3.12.4"
  }
 },
 "nbformat": 4,
 "nbformat_minor": 5
}
